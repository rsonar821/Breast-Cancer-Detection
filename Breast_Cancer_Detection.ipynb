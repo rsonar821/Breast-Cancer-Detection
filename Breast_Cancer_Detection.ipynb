{
  "nbformat": 4,
  "nbformat_minor": 0,
  "metadata": {
    "colab": {
      "name": "Breast Cancer Detection.ipynb",
      "provenance": [],
      "collapsed_sections": [],
      "authorship_tag": "ABX9TyPDD/QcBC3DI/9Iz2D/MquM",
      "include_colab_link": true
    },
    "kernelspec": {
      "name": "python3",
      "display_name": "Python 3"
    },
    "language_info": {
      "name": "python"
    }
  },
  "cells": [
    {
      "cell_type": "markdown",
      "metadata": {
        "id": "view-in-github",
        "colab_type": "text"
      },
      "source": [
        "<a href=\"https://colab.research.google.com/github/rsonar821/Breast-Cancer-Detection/blob/main/Breast_Cancer_Detection.ipynb\" target=\"_parent\"><img src=\"https://colab.research.google.com/assets/colab-badge.svg\" alt=\"Open In Colab\"/></a>"
      ]
    },
    {
      "cell_type": "markdown",
      "metadata": {
        "id": "Cdpq6TSKzp8O"
      },
      "source": [
        "There are 2 types of tumors:\n",
        "1. Benign Tumor: It is non-cancerous and the growth does not spread.\n",
        "2. Malignant Tumor: It is cancerous and the growth spreads."
      ]
    },
    {
      "cell_type": "markdown",
      "metadata": {
        "id": "czJUKqNl0UDs"
      },
      "source": [
        "There are 3 types of Breast Cells:\n",
        "1. Normal Cell\n",
        "2. Non-Invasive Cancer: It does not spread and remain contained in a region.\n",
        "3. Invasive Cancer: It can be termed as the last stage where cells start spreading."
      ]
    },
    {
      "cell_type": "markdown",
      "metadata": {
        "id": "e13FMgZ21l-i"
      },
      "source": [
        "How dense the tissues are?\n",
        "1. <25% Density: Fatty Breast Tissue (Level 1)\n",
        "2. <50% Density: Scattered Density (Level 2)\n",
        "3. Greater than 50% Density: Heterogeneously Dense (Level 3)\n",
        "4. Greater than 75% Density: Extremely Dense (Level 4)"
      ]
    },
    {
      "cell_type": "markdown",
      "metadata": {
        "id": "UtipBbuh3j1B"
      },
      "source": [
        "Last Stage: Metastatic Breast Carcinoma"
      ]
    },
    {
      "cell_type": "code",
      "metadata": {
        "id": "igBHNLtc2RQR"
      },
      "source": [
        "#For Data Frames\n",
        "import pandas as pd\n",
        "\n",
        "#For numerical calculations(arrays)\n",
        "import numpy as np\n",
        "\n",
        "#For importing one of the in-built datasets\n",
        "from sklearn.datasets import load_breast_cancer\n",
        "\n",
        "#For scaling all the values between -1 and +1\n",
        "from sklearn.preprocessing import StandardScaler\n",
        "\n",
        "#For Neural Networks (Deep Learning)\n",
        "from keras.models import Sequential\n",
        "from keras.layers import Dense"
      ],
      "execution_count": null,
      "outputs": []
    },
    {
      "cell_type": "code",
      "metadata": {
        "id": "ihxHMLzl0_Gl"
      },
      "source": [
        "data = load_breast_cancer()"
      ],
      "execution_count": null,
      "outputs": []
    },
    {
      "cell_type": "code",
      "metadata": {
        "colab": {
          "base_uri": "https://localhost:8080/"
        },
        "id": "2UAZTBG24cdV",
        "outputId": "15505e79-eee3-4cd1-ded0-f8230186bf86"
      },
      "source": [
        "data"
      ],
      "execution_count": null,
      "outputs": [
        {
          "output_type": "execute_result",
          "data": {
            "text/plain": [
              "{'DESCR': '.. _breast_cancer_dataset:\\n\\nBreast cancer wisconsin (diagnostic) dataset\\n--------------------------------------------\\n\\n**Data Set Characteristics:**\\n\\n    :Number of Instances: 569\\n\\n    :Number of Attributes: 30 numeric, predictive attributes and the class\\n\\n    :Attribute Information:\\n        - radius (mean of distances from center to points on the perimeter)\\n        - texture (standard deviation of gray-scale values)\\n        - perimeter\\n        - area\\n        - smoothness (local variation in radius lengths)\\n        - compactness (perimeter^2 / area - 1.0)\\n        - concavity (severity of concave portions of the contour)\\n        - concave points (number of concave portions of the contour)\\n        - symmetry \\n        - fractal dimension (\"coastline approximation\" - 1)\\n\\n        The mean, standard error, and \"worst\" or largest (mean of the three\\n        largest values) of these features were computed for each image,\\n        resulting in 30 features.  For instance, field 3 is Mean Radius, field\\n        13 is Radius SE, field 23 is Worst Radius.\\n\\n        - class:\\n                - WDBC-Malignant\\n                - WDBC-Benign\\n\\n    :Summary Statistics:\\n\\n    ===================================== ====== ======\\n                                           Min    Max\\n    ===================================== ====== ======\\n    radius (mean):                        6.981  28.11\\n    texture (mean):                       9.71   39.28\\n    perimeter (mean):                     43.79  188.5\\n    area (mean):                          143.5  2501.0\\n    smoothness (mean):                    0.053  0.163\\n    compactness (mean):                   0.019  0.345\\n    concavity (mean):                     0.0    0.427\\n    concave points (mean):                0.0    0.201\\n    symmetry (mean):                      0.106  0.304\\n    fractal dimension (mean):             0.05   0.097\\n    radius (standard error):              0.112  2.873\\n    texture (standard error):             0.36   4.885\\n    perimeter (standard error):           0.757  21.98\\n    area (standard error):                6.802  542.2\\n    smoothness (standard error):          0.002  0.031\\n    compactness (standard error):         0.002  0.135\\n    concavity (standard error):           0.0    0.396\\n    concave points (standard error):      0.0    0.053\\n    symmetry (standard error):            0.008  0.079\\n    fractal dimension (standard error):   0.001  0.03\\n    radius (worst):                       7.93   36.04\\n    texture (worst):                      12.02  49.54\\n    perimeter (worst):                    50.41  251.2\\n    area (worst):                         185.2  4254.0\\n    smoothness (worst):                   0.071  0.223\\n    compactness (worst):                  0.027  1.058\\n    concavity (worst):                    0.0    1.252\\n    concave points (worst):               0.0    0.291\\n    symmetry (worst):                     0.156  0.664\\n    fractal dimension (worst):            0.055  0.208\\n    ===================================== ====== ======\\n\\n    :Missing Attribute Values: None\\n\\n    :Class Distribution: 212 - Malignant, 357 - Benign\\n\\n    :Creator:  Dr. William H. Wolberg, W. Nick Street, Olvi L. Mangasarian\\n\\n    :Donor: Nick Street\\n\\n    :Date: November, 1995\\n\\nThis is a copy of UCI ML Breast Cancer Wisconsin (Diagnostic) datasets.\\nhttps://goo.gl/U2Uwz2\\n\\nFeatures are computed from a digitized image of a fine needle\\naspirate (FNA) of a breast mass.  They describe\\ncharacteristics of the cell nuclei present in the image.\\n\\nSeparating plane described above was obtained using\\nMultisurface Method-Tree (MSM-T) [K. P. Bennett, \"Decision Tree\\nConstruction Via Linear Programming.\" Proceedings of the 4th\\nMidwest Artificial Intelligence and Cognitive Science Society,\\npp. 97-101, 1992], a classification method which uses linear\\nprogramming to construct a decision tree.  Relevant features\\nwere selected using an exhaustive search in the space of 1-4\\nfeatures and 1-3 separating planes.\\n\\nThe actual linear program used to obtain the separating plane\\nin the 3-dimensional space is that described in:\\n[K. P. Bennett and O. L. Mangasarian: \"Robust Linear\\nProgramming Discrimination of Two Linearly Inseparable Sets\",\\nOptimization Methods and Software 1, 1992, 23-34].\\n\\nThis database is also available through the UW CS ftp server:\\n\\nftp ftp.cs.wisc.edu\\ncd math-prog/cpo-dataset/machine-learn/WDBC/\\n\\n.. topic:: References\\n\\n   - W.N. Street, W.H. Wolberg and O.L. Mangasarian. Nuclear feature extraction \\n     for breast tumor diagnosis. IS&T/SPIE 1993 International Symposium on \\n     Electronic Imaging: Science and Technology, volume 1905, pages 861-870,\\n     San Jose, CA, 1993.\\n   - O.L. Mangasarian, W.N. Street and W.H. Wolberg. Breast cancer diagnosis and \\n     prognosis via linear programming. Operations Research, 43(4), pages 570-577, \\n     July-August 1995.\\n   - W.H. Wolberg, W.N. Street, and O.L. Mangasarian. Machine learning techniques\\n     to diagnose breast cancer from fine-needle aspirates. Cancer Letters 77 (1994) \\n     163-171.',\n",
              " 'data': array([[1.799e+01, 1.038e+01, 1.228e+02, ..., 2.654e-01, 4.601e-01,\n",
              "         1.189e-01],\n",
              "        [2.057e+01, 1.777e+01, 1.329e+02, ..., 1.860e-01, 2.750e-01,\n",
              "         8.902e-02],\n",
              "        [1.969e+01, 2.125e+01, 1.300e+02, ..., 2.430e-01, 3.613e-01,\n",
              "         8.758e-02],\n",
              "        ...,\n",
              "        [1.660e+01, 2.808e+01, 1.083e+02, ..., 1.418e-01, 2.218e-01,\n",
              "         7.820e-02],\n",
              "        [2.060e+01, 2.933e+01, 1.401e+02, ..., 2.650e-01, 4.087e-01,\n",
              "         1.240e-01],\n",
              "        [7.760e+00, 2.454e+01, 4.792e+01, ..., 0.000e+00, 2.871e-01,\n",
              "         7.039e-02]]),\n",
              " 'feature_names': array(['mean radius', 'mean texture', 'mean perimeter', 'mean area',\n",
              "        'mean smoothness', 'mean compactness', 'mean concavity',\n",
              "        'mean concave points', 'mean symmetry', 'mean fractal dimension',\n",
              "        'radius error', 'texture error', 'perimeter error', 'area error',\n",
              "        'smoothness error', 'compactness error', 'concavity error',\n",
              "        'concave points error', 'symmetry error',\n",
              "        'fractal dimension error', 'worst radius', 'worst texture',\n",
              "        'worst perimeter', 'worst area', 'worst smoothness',\n",
              "        'worst compactness', 'worst concavity', 'worst concave points',\n",
              "        'worst symmetry', 'worst fractal dimension'], dtype='<U23'),\n",
              " 'filename': '/usr/local/lib/python3.7/dist-packages/sklearn/datasets/data/breast_cancer.csv',\n",
              " 'target': array([0, 0, 0, 0, 0, 0, 0, 0, 0, 0, 0, 0, 0, 0, 0, 0, 0, 0, 0, 1, 1, 1,\n",
              "        0, 0, 0, 0, 0, 0, 0, 0, 0, 0, 0, 0, 0, 0, 0, 1, 0, 0, 0, 0, 0, 0,\n",
              "        0, 0, 1, 0, 1, 1, 1, 1, 1, 0, 0, 1, 0, 0, 1, 1, 1, 1, 0, 1, 0, 0,\n",
              "        1, 1, 1, 1, 0, 1, 0, 0, 1, 0, 1, 0, 0, 1, 1, 1, 0, 0, 1, 0, 0, 0,\n",
              "        1, 1, 1, 0, 1, 1, 0, 0, 1, 1, 1, 0, 0, 1, 1, 1, 1, 0, 1, 1, 0, 1,\n",
              "        1, 1, 1, 1, 1, 1, 1, 0, 0, 0, 1, 0, 0, 1, 1, 1, 0, 0, 1, 0, 1, 0,\n",
              "        0, 1, 0, 0, 1, 1, 0, 1, 1, 0, 1, 1, 1, 1, 0, 1, 1, 1, 1, 1, 1, 1,\n",
              "        1, 1, 0, 1, 1, 1, 1, 0, 0, 1, 0, 1, 1, 0, 0, 1, 1, 0, 0, 1, 1, 1,\n",
              "        1, 0, 1, 1, 0, 0, 0, 1, 0, 1, 0, 1, 1, 1, 0, 1, 1, 0, 0, 1, 0, 0,\n",
              "        0, 0, 1, 0, 0, 0, 1, 0, 1, 0, 1, 1, 0, 1, 0, 0, 0, 0, 1, 1, 0, 0,\n",
              "        1, 1, 1, 0, 1, 1, 1, 1, 1, 0, 0, 1, 1, 0, 1, 1, 0, 0, 1, 0, 1, 1,\n",
              "        1, 1, 0, 1, 1, 1, 1, 1, 0, 1, 0, 0, 0, 0, 0, 0, 0, 0, 0, 0, 0, 0,\n",
              "        0, 0, 1, 1, 1, 1, 1, 1, 0, 1, 0, 1, 1, 0, 1, 1, 0, 1, 0, 0, 1, 1,\n",
              "        1, 1, 1, 1, 1, 1, 1, 1, 1, 1, 1, 0, 1, 1, 0, 1, 0, 1, 1, 1, 1, 1,\n",
              "        1, 1, 1, 1, 1, 1, 1, 1, 1, 0, 1, 1, 1, 0, 1, 0, 1, 1, 1, 1, 0, 0,\n",
              "        0, 1, 1, 1, 1, 0, 1, 0, 1, 0, 1, 1, 1, 0, 1, 1, 1, 1, 1, 1, 1, 0,\n",
              "        0, 0, 1, 1, 1, 1, 1, 1, 1, 1, 1, 1, 1, 0, 0, 1, 0, 0, 0, 1, 0, 0,\n",
              "        1, 1, 1, 1, 1, 0, 1, 1, 1, 1, 1, 0, 1, 1, 1, 0, 1, 1, 0, 0, 1, 1,\n",
              "        1, 1, 1, 1, 0, 1, 1, 1, 1, 1, 1, 1, 0, 1, 1, 1, 1, 1, 0, 1, 1, 0,\n",
              "        1, 1, 1, 1, 1, 1, 1, 1, 1, 1, 1, 1, 0, 1, 0, 0, 1, 0, 1, 1, 1, 1,\n",
              "        1, 0, 1, 1, 0, 1, 0, 1, 1, 0, 1, 0, 1, 1, 1, 1, 1, 1, 1, 1, 0, 0,\n",
              "        1, 1, 1, 1, 1, 1, 0, 1, 1, 1, 1, 1, 1, 1, 1, 1, 1, 0, 1, 1, 1, 1,\n",
              "        1, 1, 1, 0, 1, 0, 1, 1, 0, 1, 1, 1, 1, 1, 0, 0, 1, 0, 1, 0, 1, 1,\n",
              "        1, 1, 1, 0, 1, 1, 0, 1, 0, 1, 0, 0, 1, 1, 1, 0, 1, 1, 1, 1, 1, 1,\n",
              "        1, 1, 1, 1, 1, 0, 1, 0, 0, 1, 1, 1, 1, 1, 1, 1, 1, 1, 1, 1, 1, 1,\n",
              "        1, 1, 1, 1, 1, 1, 1, 1, 1, 1, 1, 1, 0, 0, 0, 0, 0, 0, 1]),\n",
              " 'target_names': array(['malignant', 'benign'], dtype='<U9')}"
            ]
          },
          "metadata": {},
          "execution_count": 3
        }
      ]
    },
    {
      "cell_type": "markdown",
      "metadata": {
        "id": "rvKy9dLR5NYf"
      },
      "source": [
        "Data is in the form of dictionary"
      ]
    },
    {
      "cell_type": "code",
      "metadata": {
        "colab": {
          "base_uri": "https://localhost:8080/"
        },
        "id": "Mk7PbeVL40vO",
        "outputId": "4e5f25c1-4989-489f-a8f7-33d287ea843e"
      },
      "source": [
        "data.keys()"
      ],
      "execution_count": null,
      "outputs": [
        {
          "output_type": "execute_result",
          "data": {
            "text/plain": [
              "dict_keys(['data', 'target', 'target_names', 'DESCR', 'feature_names', 'filename'])"
            ]
          },
          "metadata": {},
          "execution_count": 4
        }
      ]
    },
    {
      "cell_type": "code",
      "metadata": {
        "colab": {
          "base_uri": "https://localhost:8080/"
        },
        "id": "KqRJgEFJ5XW7",
        "outputId": "3199da99-2789-4f42-9b5c-a545f76f6a31"
      },
      "source": [
        "#There are total 569 tumors to be studied\n",
        "#Each tumor has 30 attributes\n",
        "print(data['DESCR'])"
      ],
      "execution_count": null,
      "outputs": [
        {
          "output_type": "stream",
          "name": "stdout",
          "text": [
            ".. _breast_cancer_dataset:\n",
            "\n",
            "Breast cancer wisconsin (diagnostic) dataset\n",
            "--------------------------------------------\n",
            "\n",
            "**Data Set Characteristics:**\n",
            "\n",
            "    :Number of Instances: 569\n",
            "\n",
            "    :Number of Attributes: 30 numeric, predictive attributes and the class\n",
            "\n",
            "    :Attribute Information:\n",
            "        - radius (mean of distances from center to points on the perimeter)\n",
            "        - texture (standard deviation of gray-scale values)\n",
            "        - perimeter\n",
            "        - area\n",
            "        - smoothness (local variation in radius lengths)\n",
            "        - compactness (perimeter^2 / area - 1.0)\n",
            "        - concavity (severity of concave portions of the contour)\n",
            "        - concave points (number of concave portions of the contour)\n",
            "        - symmetry \n",
            "        - fractal dimension (\"coastline approximation\" - 1)\n",
            "\n",
            "        The mean, standard error, and \"worst\" or largest (mean of the three\n",
            "        largest values) of these features were computed for each image,\n",
            "        resulting in 30 features.  For instance, field 3 is Mean Radius, field\n",
            "        13 is Radius SE, field 23 is Worst Radius.\n",
            "\n",
            "        - class:\n",
            "                - WDBC-Malignant\n",
            "                - WDBC-Benign\n",
            "\n",
            "    :Summary Statistics:\n",
            "\n",
            "    ===================================== ====== ======\n",
            "                                           Min    Max\n",
            "    ===================================== ====== ======\n",
            "    radius (mean):                        6.981  28.11\n",
            "    texture (mean):                       9.71   39.28\n",
            "    perimeter (mean):                     43.79  188.5\n",
            "    area (mean):                          143.5  2501.0\n",
            "    smoothness (mean):                    0.053  0.163\n",
            "    compactness (mean):                   0.019  0.345\n",
            "    concavity (mean):                     0.0    0.427\n",
            "    concave points (mean):                0.0    0.201\n",
            "    symmetry (mean):                      0.106  0.304\n",
            "    fractal dimension (mean):             0.05   0.097\n",
            "    radius (standard error):              0.112  2.873\n",
            "    texture (standard error):             0.36   4.885\n",
            "    perimeter (standard error):           0.757  21.98\n",
            "    area (standard error):                6.802  542.2\n",
            "    smoothness (standard error):          0.002  0.031\n",
            "    compactness (standard error):         0.002  0.135\n",
            "    concavity (standard error):           0.0    0.396\n",
            "    concave points (standard error):      0.0    0.053\n",
            "    symmetry (standard error):            0.008  0.079\n",
            "    fractal dimension (standard error):   0.001  0.03\n",
            "    radius (worst):                       7.93   36.04\n",
            "    texture (worst):                      12.02  49.54\n",
            "    perimeter (worst):                    50.41  251.2\n",
            "    area (worst):                         185.2  4254.0\n",
            "    smoothness (worst):                   0.071  0.223\n",
            "    compactness (worst):                  0.027  1.058\n",
            "    concavity (worst):                    0.0    1.252\n",
            "    concave points (worst):               0.0    0.291\n",
            "    symmetry (worst):                     0.156  0.664\n",
            "    fractal dimension (worst):            0.055  0.208\n",
            "    ===================================== ====== ======\n",
            "\n",
            "    :Missing Attribute Values: None\n",
            "\n",
            "    :Class Distribution: 212 - Malignant, 357 - Benign\n",
            "\n",
            "    :Creator:  Dr. William H. Wolberg, W. Nick Street, Olvi L. Mangasarian\n",
            "\n",
            "    :Donor: Nick Street\n",
            "\n",
            "    :Date: November, 1995\n",
            "\n",
            "This is a copy of UCI ML Breast Cancer Wisconsin (Diagnostic) datasets.\n",
            "https://goo.gl/U2Uwz2\n",
            "\n",
            "Features are computed from a digitized image of a fine needle\n",
            "aspirate (FNA) of a breast mass.  They describe\n",
            "characteristics of the cell nuclei present in the image.\n",
            "\n",
            "Separating plane described above was obtained using\n",
            "Multisurface Method-Tree (MSM-T) [K. P. Bennett, \"Decision Tree\n",
            "Construction Via Linear Programming.\" Proceedings of the 4th\n",
            "Midwest Artificial Intelligence and Cognitive Science Society,\n",
            "pp. 97-101, 1992], a classification method which uses linear\n",
            "programming to construct a decision tree.  Relevant features\n",
            "were selected using an exhaustive search in the space of 1-4\n",
            "features and 1-3 separating planes.\n",
            "\n",
            "The actual linear program used to obtain the separating plane\n",
            "in the 3-dimensional space is that described in:\n",
            "[K. P. Bennett and O. L. Mangasarian: \"Robust Linear\n",
            "Programming Discrimination of Two Linearly Inseparable Sets\",\n",
            "Optimization Methods and Software 1, 1992, 23-34].\n",
            "\n",
            "This database is also available through the UW CS ftp server:\n",
            "\n",
            "ftp ftp.cs.wisc.edu\n",
            "cd math-prog/cpo-dataset/machine-learn/WDBC/\n",
            "\n",
            ".. topic:: References\n",
            "\n",
            "   - W.N. Street, W.H. Wolberg and O.L. Mangasarian. Nuclear feature extraction \n",
            "     for breast tumor diagnosis. IS&T/SPIE 1993 International Symposium on \n",
            "     Electronic Imaging: Science and Technology, volume 1905, pages 861-870,\n",
            "     San Jose, CA, 1993.\n",
            "   - O.L. Mangasarian, W.N. Street and W.H. Wolberg. Breast cancer diagnosis and \n",
            "     prognosis via linear programming. Operations Research, 43(4), pages 570-577, \n",
            "     July-August 1995.\n",
            "   - W.H. Wolberg, W.N. Street, and O.L. Mangasarian. Machine learning techniques\n",
            "     to diagnose breast cancer from fine-needle aspirates. Cancer Letters 77 (1994) \n",
            "     163-171.\n"
          ]
        }
      ]
    },
    {
      "cell_type": "code",
      "metadata": {
        "id": "BIPhoozS5pcN",
        "colab": {
          "base_uri": "https://localhost:8080/"
        },
        "outputId": "5312f326-dfc0-413f-d3dc-e9b742ae0799"
      },
      "source": [
        "#There are 569 tumors to be analysed and there are 30 features for each tumor\n",
        "print(data['data'].shape)"
      ],
      "execution_count": null,
      "outputs": [
        {
          "output_type": "stream",
          "name": "stdout",
          "text": [
            "(569, 30)\n"
          ]
        }
      ]
    },
    {
      "cell_type": "code",
      "metadata": {
        "colab": {
          "base_uri": "https://localhost:8080/"
        },
        "id": "GYQ826sxg0e4",
        "outputId": "a4fd2b87-9a23-47d5-b31a-b481cc5a5f30"
      },
      "source": [
        "data['feature_names']"
      ],
      "execution_count": null,
      "outputs": [
        {
          "output_type": "execute_result",
          "data": {
            "text/plain": [
              "array(['mean radius', 'mean texture', 'mean perimeter', 'mean area',\n",
              "       'mean smoothness', 'mean compactness', 'mean concavity',\n",
              "       'mean concave points', 'mean symmetry', 'mean fractal dimension',\n",
              "       'radius error', 'texture error', 'perimeter error', 'area error',\n",
              "       'smoothness error', 'compactness error', 'concavity error',\n",
              "       'concave points error', 'symmetry error',\n",
              "       'fractal dimension error', 'worst radius', 'worst texture',\n",
              "       'worst perimeter', 'worst area', 'worst smoothness',\n",
              "       'worst compactness', 'worst concavity', 'worst concave points',\n",
              "       'worst symmetry', 'worst fractal dimension'], dtype='<U23')"
            ]
          },
          "metadata": {},
          "execution_count": 7
        }
      ]
    },
    {
      "cell_type": "code",
      "metadata": {
        "colab": {
          "base_uri": "https://localhost:8080/"
        },
        "id": "VFT-xI8HhJe4",
        "outputId": "4ac9e688-52fd-43e0-9190-02f00c7f68e2"
      },
      "source": [
        "#All the features of 1st tumor\n",
        "data['data'][0]"
      ],
      "execution_count": null,
      "outputs": [
        {
          "output_type": "execute_result",
          "data": {
            "text/plain": [
              "array([1.799e+01, 1.038e+01, 1.228e+02, 1.001e+03, 1.184e-01, 2.776e-01,\n",
              "       3.001e-01, 1.471e-01, 2.419e-01, 7.871e-02, 1.095e+00, 9.053e-01,\n",
              "       8.589e+00, 1.534e+02, 6.399e-03, 4.904e-02, 5.373e-02, 1.587e-02,\n",
              "       3.003e-02, 6.193e-03, 2.538e+01, 1.733e+01, 1.846e+02, 2.019e+03,\n",
              "       1.622e-01, 6.656e-01, 7.119e-01, 2.654e-01, 4.601e-01, 1.189e-01])"
            ]
          },
          "metadata": {},
          "execution_count": 8
        }
      ]
    },
    {
      "cell_type": "code",
      "metadata": {
        "colab": {
          "base_uri": "https://localhost:8080/"
        },
        "id": "QZ8QeEdyhZ20",
        "outputId": "1394e76b-e6c6-40e2-c36a-aac8326addb6"
      },
      "source": [
        "#Mapping all the features of the first tumor\n",
        "j=0\n",
        "for i in data['feature_names']:\n",
        "  print(i, \":\", data['data'][0][j])\n",
        "  j+=1 "
      ],
      "execution_count": null,
      "outputs": [
        {
          "output_type": "stream",
          "name": "stdout",
          "text": [
            "mean radius : 17.99\n",
            "mean texture : 10.38\n",
            "mean perimeter : 122.8\n",
            "mean area : 1001.0\n",
            "mean smoothness : 0.1184\n",
            "mean compactness : 0.2776\n",
            "mean concavity : 0.3001\n",
            "mean concave points : 0.1471\n",
            "mean symmetry : 0.2419\n",
            "mean fractal dimension : 0.07871\n",
            "radius error : 1.095\n",
            "texture error : 0.9053\n",
            "perimeter error : 8.589\n",
            "area error : 153.4\n",
            "smoothness error : 0.006399\n",
            "compactness error : 0.04904\n",
            "concavity error : 0.05373\n",
            "concave points error : 0.01587\n",
            "symmetry error : 0.03003\n",
            "fractal dimension error : 0.006193\n",
            "worst radius : 25.38\n",
            "worst texture : 17.33\n",
            "worst perimeter : 184.6\n",
            "worst area : 2019.0\n",
            "worst smoothness : 0.1622\n",
            "worst compactness : 0.6656\n",
            "worst concavity : 0.7119\n",
            "worst concave points : 0.2654\n",
            "worst symmetry : 0.4601\n",
            "worst fractal dimension : 0.1189\n"
          ]
        }
      ]
    },
    {
      "cell_type": "code",
      "metadata": {
        "colab": {
          "base_uri": "https://localhost:8080/"
        },
        "id": "1pMfOOZFifmq",
        "outputId": "5fab9edc-52dc-4e5c-8b43-0030a120991e"
      },
      "source": [
        "data['target_names']"
      ],
      "execution_count": null,
      "outputs": [
        {
          "output_type": "execute_result",
          "data": {
            "text/plain": [
              "array(['malignant', 'benign'], dtype='<U9')"
            ]
          },
          "metadata": {},
          "execution_count": 10
        }
      ]
    },
    {
      "cell_type": "code",
      "metadata": {
        "colab": {
          "base_uri": "https://localhost:8080/",
          "height": 35
        },
        "id": "MKT_yuadkwzy",
        "outputId": "43fd59df-cea4-4abf-9b06-d70d8c6a44a8"
      },
      "source": [
        "data['filename']"
      ],
      "execution_count": null,
      "outputs": [
        {
          "output_type": "execute_result",
          "data": {
            "application/vnd.google.colaboratory.intrinsic+json": {
              "type": "string"
            },
            "text/plain": [
              "'/usr/local/lib/python3.7/dist-packages/sklearn/datasets/data/breast_cancer.csv'"
            ]
          },
          "metadata": {},
          "execution_count": 11
        }
      ]
    },
    {
      "cell_type": "code",
      "metadata": {
        "id": "SfQC5Y5emHEu"
      },
      "source": [
        "feature = data['data']"
      ],
      "execution_count": null,
      "outputs": []
    },
    {
      "cell_type": "code",
      "metadata": {
        "id": "DL2_wwIgm1w7"
      },
      "source": [
        "label = data['target']"
      ],
      "execution_count": null,
      "outputs": []
    },
    {
      "cell_type": "code",
      "metadata": {
        "colab": {
          "base_uri": "https://localhost:8080/"
        },
        "id": "TQNx90iNm7JN",
        "outputId": "cc8cc013-2d9d-412a-d84c-7f4e40ec7959"
      },
      "source": [
        "feature"
      ],
      "execution_count": null,
      "outputs": [
        {
          "output_type": "execute_result",
          "data": {
            "text/plain": [
              "array([[1.799e+01, 1.038e+01, 1.228e+02, ..., 2.654e-01, 4.601e-01,\n",
              "        1.189e-01],\n",
              "       [2.057e+01, 1.777e+01, 1.329e+02, ..., 1.860e-01, 2.750e-01,\n",
              "        8.902e-02],\n",
              "       [1.969e+01, 2.125e+01, 1.300e+02, ..., 2.430e-01, 3.613e-01,\n",
              "        8.758e-02],\n",
              "       ...,\n",
              "       [1.660e+01, 2.808e+01, 1.083e+02, ..., 1.418e-01, 2.218e-01,\n",
              "        7.820e-02],\n",
              "       [2.060e+01, 2.933e+01, 1.401e+02, ..., 2.650e-01, 4.087e-01,\n",
              "        1.240e-01],\n",
              "       [7.760e+00, 2.454e+01, 4.792e+01, ..., 0.000e+00, 2.871e-01,\n",
              "        7.039e-02]])"
            ]
          },
          "metadata": {},
          "execution_count": 14
        }
      ]
    },
    {
      "cell_type": "code",
      "metadata": {
        "colab": {
          "base_uri": "https://localhost:8080/"
        },
        "id": "99uCxs2onBTf",
        "outputId": "82afd81b-9fe1-46eb-c40d-c962db3e01ba"
      },
      "source": [
        "feature.shape"
      ],
      "execution_count": null,
      "outputs": [
        {
          "output_type": "execute_result",
          "data": {
            "text/plain": [
              "(569, 30)"
            ]
          },
          "metadata": {},
          "execution_count": 15
        }
      ]
    },
    {
      "cell_type": "code",
      "metadata": {
        "colab": {
          "base_uri": "https://localhost:8080/"
        },
        "id": "pNxQ8A31nHCb",
        "outputId": "08612294-4ba9-42eb-9c0c-fe653737cbed"
      },
      "source": [
        "label"
      ],
      "execution_count": null,
      "outputs": [
        {
          "output_type": "execute_result",
          "data": {
            "text/plain": [
              "array([0, 0, 0, 0, 0, 0, 0, 0, 0, 0, 0, 0, 0, 0, 0, 0, 0, 0, 0, 1, 1, 1,\n",
              "       0, 0, 0, 0, 0, 0, 0, 0, 0, 0, 0, 0, 0, 0, 0, 1, 0, 0, 0, 0, 0, 0,\n",
              "       0, 0, 1, 0, 1, 1, 1, 1, 1, 0, 0, 1, 0, 0, 1, 1, 1, 1, 0, 1, 0, 0,\n",
              "       1, 1, 1, 1, 0, 1, 0, 0, 1, 0, 1, 0, 0, 1, 1, 1, 0, 0, 1, 0, 0, 0,\n",
              "       1, 1, 1, 0, 1, 1, 0, 0, 1, 1, 1, 0, 0, 1, 1, 1, 1, 0, 1, 1, 0, 1,\n",
              "       1, 1, 1, 1, 1, 1, 1, 0, 0, 0, 1, 0, 0, 1, 1, 1, 0, 0, 1, 0, 1, 0,\n",
              "       0, 1, 0, 0, 1, 1, 0, 1, 1, 0, 1, 1, 1, 1, 0, 1, 1, 1, 1, 1, 1, 1,\n",
              "       1, 1, 0, 1, 1, 1, 1, 0, 0, 1, 0, 1, 1, 0, 0, 1, 1, 0, 0, 1, 1, 1,\n",
              "       1, 0, 1, 1, 0, 0, 0, 1, 0, 1, 0, 1, 1, 1, 0, 1, 1, 0, 0, 1, 0, 0,\n",
              "       0, 0, 1, 0, 0, 0, 1, 0, 1, 0, 1, 1, 0, 1, 0, 0, 0, 0, 1, 1, 0, 0,\n",
              "       1, 1, 1, 0, 1, 1, 1, 1, 1, 0, 0, 1, 1, 0, 1, 1, 0, 0, 1, 0, 1, 1,\n",
              "       1, 1, 0, 1, 1, 1, 1, 1, 0, 1, 0, 0, 0, 0, 0, 0, 0, 0, 0, 0, 0, 0,\n",
              "       0, 0, 1, 1, 1, 1, 1, 1, 0, 1, 0, 1, 1, 0, 1, 1, 0, 1, 0, 0, 1, 1,\n",
              "       1, 1, 1, 1, 1, 1, 1, 1, 1, 1, 1, 0, 1, 1, 0, 1, 0, 1, 1, 1, 1, 1,\n",
              "       1, 1, 1, 1, 1, 1, 1, 1, 1, 0, 1, 1, 1, 0, 1, 0, 1, 1, 1, 1, 0, 0,\n",
              "       0, 1, 1, 1, 1, 0, 1, 0, 1, 0, 1, 1, 1, 0, 1, 1, 1, 1, 1, 1, 1, 0,\n",
              "       0, 0, 1, 1, 1, 1, 1, 1, 1, 1, 1, 1, 1, 0, 0, 1, 0, 0, 0, 1, 0, 0,\n",
              "       1, 1, 1, 1, 1, 0, 1, 1, 1, 1, 1, 0, 1, 1, 1, 0, 1, 1, 0, 0, 1, 1,\n",
              "       1, 1, 1, 1, 0, 1, 1, 1, 1, 1, 1, 1, 0, 1, 1, 1, 1, 1, 0, 1, 1, 0,\n",
              "       1, 1, 1, 1, 1, 1, 1, 1, 1, 1, 1, 1, 0, 1, 0, 0, 1, 0, 1, 1, 1, 1,\n",
              "       1, 0, 1, 1, 0, 1, 0, 1, 1, 0, 1, 0, 1, 1, 1, 1, 1, 1, 1, 1, 0, 0,\n",
              "       1, 1, 1, 1, 1, 1, 0, 1, 1, 1, 1, 1, 1, 1, 1, 1, 1, 0, 1, 1, 1, 1,\n",
              "       1, 1, 1, 0, 1, 0, 1, 1, 0, 1, 1, 1, 1, 1, 0, 0, 1, 0, 1, 0, 1, 1,\n",
              "       1, 1, 1, 0, 1, 1, 0, 1, 0, 1, 0, 0, 1, 1, 1, 0, 1, 1, 1, 1, 1, 1,\n",
              "       1, 1, 1, 1, 1, 0, 1, 0, 0, 1, 1, 1, 1, 1, 1, 1, 1, 1, 1, 1, 1, 1,\n",
              "       1, 1, 1, 1, 1, 1, 1, 1, 1, 1, 1, 1, 0, 0, 0, 0, 0, 0, 1])"
            ]
          },
          "metadata": {},
          "execution_count": 16
        }
      ]
    },
    {
      "cell_type": "code",
      "metadata": {
        "colab": {
          "base_uri": "https://localhost:8080/"
        },
        "id": "bVbsCdlLnK_4",
        "outputId": "1449a286-eb8f-47fe-f69c-a58592a575df"
      },
      "source": [
        "label.shape"
      ],
      "execution_count": null,
      "outputs": [
        {
          "output_type": "execute_result",
          "data": {
            "text/plain": [
              "(569,)"
            ]
          },
          "metadata": {},
          "execution_count": 17
        }
      ]
    },
    {
      "cell_type": "code",
      "metadata": {
        "id": "_5bnlQ0NnQVv"
      },
      "source": [
        "scale = StandardScaler()\n",
        "\n",
        "feature = scale.fit_transform(feature)"
      ],
      "execution_count": null,
      "outputs": []
    },
    {
      "cell_type": "code",
      "metadata": {
        "colab": {
          "base_uri": "https://localhost:8080/"
        },
        "id": "QLUwNK9Yp4Yk",
        "outputId": "bfc7f86a-ea68-49c4-9214-6c10f1a3a804"
      },
      "source": [
        "feature"
      ],
      "execution_count": null,
      "outputs": [
        {
          "output_type": "execute_result",
          "data": {
            "text/plain": [
              "array([[ 1.09706398, -2.07333501,  1.26993369, ...,  2.29607613,\n",
              "         2.75062224,  1.93701461],\n",
              "       [ 1.82982061, -0.35363241,  1.68595471, ...,  1.0870843 ,\n",
              "        -0.24388967,  0.28118999],\n",
              "       [ 1.57988811,  0.45618695,  1.56650313, ...,  1.95500035,\n",
              "         1.152255  ,  0.20139121],\n",
              "       ...,\n",
              "       [ 0.70228425,  2.0455738 ,  0.67267578, ...,  0.41406869,\n",
              "        -1.10454895, -0.31840916],\n",
              "       [ 1.83834103,  2.33645719,  1.98252415, ...,  2.28998549,\n",
              "         1.91908301,  2.21963528],\n",
              "       [-1.80840125,  1.22179204, -1.81438851, ..., -1.74506282,\n",
              "        -0.04813821, -0.75120669]])"
            ]
          },
          "metadata": {},
          "execution_count": 19
        }
      ]
    },
    {
      "cell_type": "code",
      "metadata": {
        "colab": {
          "base_uri": "https://localhost:8080/"
        },
        "id": "_ZHtDD0op5oZ",
        "outputId": "f0f49b96-030c-479e-b869-931757737da5"
      },
      "source": [
        "j=0\n",
        "for i in data['feature_names']:\n",
        "  print(i, \":\", feature[0][j])\n",
        "  j+=1"
      ],
      "execution_count": null,
      "outputs": [
        {
          "output_type": "stream",
          "name": "stdout",
          "text": [
            "mean radius : 1.0970639814699807\n",
            "mean texture : -2.0733350146975935\n",
            "mean perimeter : 1.2699336881399383\n",
            "mean area : 0.9843749048031144\n",
            "mean smoothness : 1.568466329243428\n",
            "mean compactness : 3.2835146709868264\n",
            "mean concavity : 2.652873983743168\n",
            "mean concave points : 2.532475216403245\n",
            "mean symmetry : 2.2175150059646405\n",
            "mean fractal dimension : 2.255746885296269\n",
            "radius error : 2.4897339267376193\n",
            "texture error : -0.5652650590684639\n",
            "perimeter error : 2.833030865855184\n",
            "area error : 2.4875775569611043\n",
            "smoothness error : -0.21400164666895383\n",
            "compactness error : 1.3168615683959484\n",
            "concavity error : 0.72402615808036\n",
            "concave points error : 0.6608199414286064\n",
            "symmetry error : 1.1487566671861758\n",
            "fractal dimension error : 0.9070830809973359\n",
            "worst radius : 1.8866896251792757\n",
            "worst texture : -1.3592934737640827\n",
            "worst perimeter : 2.3036006236225606\n",
            "worst area : 2.0012374893299207\n",
            "worst smoothness : 1.3076862710715387\n",
            "worst compactness : 2.616665023512603\n",
            "worst concavity : 2.1095263465722556\n",
            "worst concave points : 2.296076127561788\n",
            "worst symmetry : 2.750622244124955\n",
            "worst fractal dimension : 1.9370146123781782\n"
          ]
        }
      ]
    },
    {
      "cell_type": "code",
      "metadata": {
        "colab": {
          "base_uri": "https://localhost:8080/"
        },
        "id": "Sg67vrslqEds",
        "outputId": "260b0dcc-e747-4277-8ddb-7feef043b016"
      },
      "source": [
        "#1: Benign\n",
        "#0: Malignant\n",
        "print(feature[0])\n",
        "print(label[0])\n",
        "print(data['target_names'][0])"
      ],
      "execution_count": null,
      "outputs": [
        {
          "output_type": "stream",
          "name": "stdout",
          "text": [
            "[ 1.09706398 -2.07333501  1.26993369  0.9843749   1.56846633  3.28351467\n",
            "  2.65287398  2.53247522  2.21751501  2.25574689  2.48973393 -0.56526506\n",
            "  2.83303087  2.48757756 -0.21400165  1.31686157  0.72402616  0.66081994\n",
            "  1.14875667  0.90708308  1.88668963 -1.35929347  2.30360062  2.00123749\n",
            "  1.30768627  2.61666502  2.10952635  2.29607613  2.75062224  1.93701461]\n",
            "0\n",
            "malignant\n"
          ]
        }
      ]
    },
    {
      "cell_type": "code",
      "metadata": {
        "colab": {
          "base_uri": "https://localhost:8080/"
        },
        "id": "bVmgGwZ1qw96",
        "outputId": "7e945999-2c7c-4bb5-b7b3-282dc9030690"
      },
      "source": [
        "print(feature[111])\n",
        "print(data['target_names'][label[111]])"
      ],
      "execution_count": null,
      "outputs": [
        {
          "output_type": "stream",
          "name": "stdout",
          "text": [
            "[-0.42525211  0.34216066 -0.40444795 -0.49626492  0.21134135  0.31381785\n",
            "  0.22223158  0.29123609 -0.27973028  1.12024604 -0.22655753  1.06347146\n",
            " -0.07675906 -0.43688969  1.95641968  0.83509374  0.63383906  1.80926437\n",
            "  0.10869232  0.79285118 -0.60865486 -0.03374501 -0.54392553 -0.62086511\n",
            " -0.16081609 -0.18616657 -0.24269944 -0.06252381 -1.09160671  0.05066019]\n",
            "benign\n"
          ]
        }
      ]
    },
    {
      "cell_type": "code",
      "metadata": {
        "id": "JSGv4qlVrKsv"
      },
      "source": [
        "#Converting the dataset into a dataframe using pandas\n",
        "df = pd.DataFrame(feature, columns = data['feature_names'])"
      ],
      "execution_count": null,
      "outputs": []
    },
    {
      "cell_type": "code",
      "metadata": {
        "colab": {
          "base_uri": "https://localhost:8080/",
          "height": 473
        },
        "id": "p2inzTMgtJFf",
        "outputId": "8e77b5c9-4cf2-4fa5-a712-346bf60de42d"
      },
      "source": [
        "df"
      ],
      "execution_count": null,
      "outputs": [
        {
          "output_type": "execute_result",
          "data": {
            "text/html": [
              "<div>\n",
              "<style scoped>\n",
              "    .dataframe tbody tr th:only-of-type {\n",
              "        vertical-align: middle;\n",
              "    }\n",
              "\n",
              "    .dataframe tbody tr th {\n",
              "        vertical-align: top;\n",
              "    }\n",
              "\n",
              "    .dataframe thead th {\n",
              "        text-align: right;\n",
              "    }\n",
              "</style>\n",
              "<table border=\"1\" class=\"dataframe\">\n",
              "  <thead>\n",
              "    <tr style=\"text-align: right;\">\n",
              "      <th></th>\n",
              "      <th>mean radius</th>\n",
              "      <th>mean texture</th>\n",
              "      <th>mean perimeter</th>\n",
              "      <th>mean area</th>\n",
              "      <th>mean smoothness</th>\n",
              "      <th>mean compactness</th>\n",
              "      <th>mean concavity</th>\n",
              "      <th>mean concave points</th>\n",
              "      <th>mean symmetry</th>\n",
              "      <th>mean fractal dimension</th>\n",
              "      <th>radius error</th>\n",
              "      <th>texture error</th>\n",
              "      <th>perimeter error</th>\n",
              "      <th>area error</th>\n",
              "      <th>smoothness error</th>\n",
              "      <th>compactness error</th>\n",
              "      <th>concavity error</th>\n",
              "      <th>concave points error</th>\n",
              "      <th>symmetry error</th>\n",
              "      <th>fractal dimension error</th>\n",
              "      <th>worst radius</th>\n",
              "      <th>worst texture</th>\n",
              "      <th>worst perimeter</th>\n",
              "      <th>worst area</th>\n",
              "      <th>worst smoothness</th>\n",
              "      <th>worst compactness</th>\n",
              "      <th>worst concavity</th>\n",
              "      <th>worst concave points</th>\n",
              "      <th>worst symmetry</th>\n",
              "      <th>worst fractal dimension</th>\n",
              "    </tr>\n",
              "  </thead>\n",
              "  <tbody>\n",
              "    <tr>\n",
              "      <th>0</th>\n",
              "      <td>1.097064</td>\n",
              "      <td>-2.073335</td>\n",
              "      <td>1.269934</td>\n",
              "      <td>0.984375</td>\n",
              "      <td>1.568466</td>\n",
              "      <td>3.283515</td>\n",
              "      <td>2.652874</td>\n",
              "      <td>2.532475</td>\n",
              "      <td>2.217515</td>\n",
              "      <td>2.255747</td>\n",
              "      <td>2.489734</td>\n",
              "      <td>-0.565265</td>\n",
              "      <td>2.833031</td>\n",
              "      <td>2.487578</td>\n",
              "      <td>-0.214002</td>\n",
              "      <td>1.316862</td>\n",
              "      <td>0.724026</td>\n",
              "      <td>0.660820</td>\n",
              "      <td>1.148757</td>\n",
              "      <td>0.907083</td>\n",
              "      <td>1.886690</td>\n",
              "      <td>-1.359293</td>\n",
              "      <td>2.303601</td>\n",
              "      <td>2.001237</td>\n",
              "      <td>1.307686</td>\n",
              "      <td>2.616665</td>\n",
              "      <td>2.109526</td>\n",
              "      <td>2.296076</td>\n",
              "      <td>2.750622</td>\n",
              "      <td>1.937015</td>\n",
              "    </tr>\n",
              "    <tr>\n",
              "      <th>1</th>\n",
              "      <td>1.829821</td>\n",
              "      <td>-0.353632</td>\n",
              "      <td>1.685955</td>\n",
              "      <td>1.908708</td>\n",
              "      <td>-0.826962</td>\n",
              "      <td>-0.487072</td>\n",
              "      <td>-0.023846</td>\n",
              "      <td>0.548144</td>\n",
              "      <td>0.001392</td>\n",
              "      <td>-0.868652</td>\n",
              "      <td>0.499255</td>\n",
              "      <td>-0.876244</td>\n",
              "      <td>0.263327</td>\n",
              "      <td>0.742402</td>\n",
              "      <td>-0.605351</td>\n",
              "      <td>-0.692926</td>\n",
              "      <td>-0.440780</td>\n",
              "      <td>0.260162</td>\n",
              "      <td>-0.805450</td>\n",
              "      <td>-0.099444</td>\n",
              "      <td>1.805927</td>\n",
              "      <td>-0.369203</td>\n",
              "      <td>1.535126</td>\n",
              "      <td>1.890489</td>\n",
              "      <td>-0.375612</td>\n",
              "      <td>-0.430444</td>\n",
              "      <td>-0.146749</td>\n",
              "      <td>1.087084</td>\n",
              "      <td>-0.243890</td>\n",
              "      <td>0.281190</td>\n",
              "    </tr>\n",
              "    <tr>\n",
              "      <th>2</th>\n",
              "      <td>1.579888</td>\n",
              "      <td>0.456187</td>\n",
              "      <td>1.566503</td>\n",
              "      <td>1.558884</td>\n",
              "      <td>0.942210</td>\n",
              "      <td>1.052926</td>\n",
              "      <td>1.363478</td>\n",
              "      <td>2.037231</td>\n",
              "      <td>0.939685</td>\n",
              "      <td>-0.398008</td>\n",
              "      <td>1.228676</td>\n",
              "      <td>-0.780083</td>\n",
              "      <td>0.850928</td>\n",
              "      <td>1.181336</td>\n",
              "      <td>-0.297005</td>\n",
              "      <td>0.814974</td>\n",
              "      <td>0.213076</td>\n",
              "      <td>1.424827</td>\n",
              "      <td>0.237036</td>\n",
              "      <td>0.293559</td>\n",
              "      <td>1.511870</td>\n",
              "      <td>-0.023974</td>\n",
              "      <td>1.347475</td>\n",
              "      <td>1.456285</td>\n",
              "      <td>0.527407</td>\n",
              "      <td>1.082932</td>\n",
              "      <td>0.854974</td>\n",
              "      <td>1.955000</td>\n",
              "      <td>1.152255</td>\n",
              "      <td>0.201391</td>\n",
              "    </tr>\n",
              "    <tr>\n",
              "      <th>3</th>\n",
              "      <td>-0.768909</td>\n",
              "      <td>0.253732</td>\n",
              "      <td>-0.592687</td>\n",
              "      <td>-0.764464</td>\n",
              "      <td>3.283553</td>\n",
              "      <td>3.402909</td>\n",
              "      <td>1.915897</td>\n",
              "      <td>1.451707</td>\n",
              "      <td>2.867383</td>\n",
              "      <td>4.910919</td>\n",
              "      <td>0.326373</td>\n",
              "      <td>-0.110409</td>\n",
              "      <td>0.286593</td>\n",
              "      <td>-0.288378</td>\n",
              "      <td>0.689702</td>\n",
              "      <td>2.744280</td>\n",
              "      <td>0.819518</td>\n",
              "      <td>1.115007</td>\n",
              "      <td>4.732680</td>\n",
              "      <td>2.047511</td>\n",
              "      <td>-0.281464</td>\n",
              "      <td>0.133984</td>\n",
              "      <td>-0.249939</td>\n",
              "      <td>-0.550021</td>\n",
              "      <td>3.394275</td>\n",
              "      <td>3.893397</td>\n",
              "      <td>1.989588</td>\n",
              "      <td>2.175786</td>\n",
              "      <td>6.046041</td>\n",
              "      <td>4.935010</td>\n",
              "    </tr>\n",
              "    <tr>\n",
              "      <th>4</th>\n",
              "      <td>1.750297</td>\n",
              "      <td>-1.151816</td>\n",
              "      <td>1.776573</td>\n",
              "      <td>1.826229</td>\n",
              "      <td>0.280372</td>\n",
              "      <td>0.539340</td>\n",
              "      <td>1.371011</td>\n",
              "      <td>1.428493</td>\n",
              "      <td>-0.009560</td>\n",
              "      <td>-0.562450</td>\n",
              "      <td>1.270543</td>\n",
              "      <td>-0.790244</td>\n",
              "      <td>1.273189</td>\n",
              "      <td>1.190357</td>\n",
              "      <td>1.483067</td>\n",
              "      <td>-0.048520</td>\n",
              "      <td>0.828471</td>\n",
              "      <td>1.144205</td>\n",
              "      <td>-0.361092</td>\n",
              "      <td>0.499328</td>\n",
              "      <td>1.298575</td>\n",
              "      <td>-1.466770</td>\n",
              "      <td>1.338539</td>\n",
              "      <td>1.220724</td>\n",
              "      <td>0.220556</td>\n",
              "      <td>-0.313395</td>\n",
              "      <td>0.613179</td>\n",
              "      <td>0.729259</td>\n",
              "      <td>-0.868353</td>\n",
              "      <td>-0.397100</td>\n",
              "    </tr>\n",
              "    <tr>\n",
              "      <th>...</th>\n",
              "      <td>...</td>\n",
              "      <td>...</td>\n",
              "      <td>...</td>\n",
              "      <td>...</td>\n",
              "      <td>...</td>\n",
              "      <td>...</td>\n",
              "      <td>...</td>\n",
              "      <td>...</td>\n",
              "      <td>...</td>\n",
              "      <td>...</td>\n",
              "      <td>...</td>\n",
              "      <td>...</td>\n",
              "      <td>...</td>\n",
              "      <td>...</td>\n",
              "      <td>...</td>\n",
              "      <td>...</td>\n",
              "      <td>...</td>\n",
              "      <td>...</td>\n",
              "      <td>...</td>\n",
              "      <td>...</td>\n",
              "      <td>...</td>\n",
              "      <td>...</td>\n",
              "      <td>...</td>\n",
              "      <td>...</td>\n",
              "      <td>...</td>\n",
              "      <td>...</td>\n",
              "      <td>...</td>\n",
              "      <td>...</td>\n",
              "      <td>...</td>\n",
              "      <td>...</td>\n",
              "    </tr>\n",
              "    <tr>\n",
              "      <th>564</th>\n",
              "      <td>2.110995</td>\n",
              "      <td>0.721473</td>\n",
              "      <td>2.060786</td>\n",
              "      <td>2.343856</td>\n",
              "      <td>1.041842</td>\n",
              "      <td>0.219060</td>\n",
              "      <td>1.947285</td>\n",
              "      <td>2.320965</td>\n",
              "      <td>-0.312589</td>\n",
              "      <td>-0.931027</td>\n",
              "      <td>2.782080</td>\n",
              "      <td>0.071025</td>\n",
              "      <td>2.379583</td>\n",
              "      <td>2.604187</td>\n",
              "      <td>1.086384</td>\n",
              "      <td>0.191805</td>\n",
              "      <td>0.666001</td>\n",
              "      <td>2.067178</td>\n",
              "      <td>-1.138416</td>\n",
              "      <td>0.167980</td>\n",
              "      <td>1.901185</td>\n",
              "      <td>0.117700</td>\n",
              "      <td>1.752563</td>\n",
              "      <td>2.015301</td>\n",
              "      <td>0.378365</td>\n",
              "      <td>-0.273318</td>\n",
              "      <td>0.664512</td>\n",
              "      <td>1.629151</td>\n",
              "      <td>-1.360158</td>\n",
              "      <td>-0.709091</td>\n",
              "    </tr>\n",
              "    <tr>\n",
              "      <th>565</th>\n",
              "      <td>1.704854</td>\n",
              "      <td>2.085134</td>\n",
              "      <td>1.615931</td>\n",
              "      <td>1.723842</td>\n",
              "      <td>0.102458</td>\n",
              "      <td>-0.017833</td>\n",
              "      <td>0.693043</td>\n",
              "      <td>1.263669</td>\n",
              "      <td>-0.217664</td>\n",
              "      <td>-1.058611</td>\n",
              "      <td>1.300499</td>\n",
              "      <td>2.260938</td>\n",
              "      <td>1.156857</td>\n",
              "      <td>1.291565</td>\n",
              "      <td>-0.424010</td>\n",
              "      <td>-0.069758</td>\n",
              "      <td>0.252202</td>\n",
              "      <td>0.808431</td>\n",
              "      <td>-0.189161</td>\n",
              "      <td>-0.490556</td>\n",
              "      <td>1.536720</td>\n",
              "      <td>2.047399</td>\n",
              "      <td>1.421940</td>\n",
              "      <td>1.494959</td>\n",
              "      <td>-0.691230</td>\n",
              "      <td>-0.394820</td>\n",
              "      <td>0.236573</td>\n",
              "      <td>0.733827</td>\n",
              "      <td>-0.531855</td>\n",
              "      <td>-0.973978</td>\n",
              "    </tr>\n",
              "    <tr>\n",
              "      <th>566</th>\n",
              "      <td>0.702284</td>\n",
              "      <td>2.045574</td>\n",
              "      <td>0.672676</td>\n",
              "      <td>0.577953</td>\n",
              "      <td>-0.840484</td>\n",
              "      <td>-0.038680</td>\n",
              "      <td>0.046588</td>\n",
              "      <td>0.105777</td>\n",
              "      <td>-0.809117</td>\n",
              "      <td>-0.895587</td>\n",
              "      <td>0.184892</td>\n",
              "      <td>-0.257371</td>\n",
              "      <td>0.276693</td>\n",
              "      <td>0.180698</td>\n",
              "      <td>-0.379342</td>\n",
              "      <td>0.661277</td>\n",
              "      <td>0.510827</td>\n",
              "      <td>0.612157</td>\n",
              "      <td>-0.891416</td>\n",
              "      <td>0.036727</td>\n",
              "      <td>0.561361</td>\n",
              "      <td>1.374854</td>\n",
              "      <td>0.579001</td>\n",
              "      <td>0.427906</td>\n",
              "      <td>-0.809587</td>\n",
              "      <td>0.350735</td>\n",
              "      <td>0.326767</td>\n",
              "      <td>0.414069</td>\n",
              "      <td>-1.104549</td>\n",
              "      <td>-0.318409</td>\n",
              "    </tr>\n",
              "    <tr>\n",
              "      <th>567</th>\n",
              "      <td>1.838341</td>\n",
              "      <td>2.336457</td>\n",
              "      <td>1.982524</td>\n",
              "      <td>1.735218</td>\n",
              "      <td>1.525767</td>\n",
              "      <td>3.272144</td>\n",
              "      <td>3.296944</td>\n",
              "      <td>2.658866</td>\n",
              "      <td>2.137194</td>\n",
              "      <td>1.043695</td>\n",
              "      <td>1.157935</td>\n",
              "      <td>0.686088</td>\n",
              "      <td>1.438530</td>\n",
              "      <td>1.009503</td>\n",
              "      <td>-0.173000</td>\n",
              "      <td>2.017716</td>\n",
              "      <td>1.302285</td>\n",
              "      <td>0.785721</td>\n",
              "      <td>0.326634</td>\n",
              "      <td>0.904057</td>\n",
              "      <td>1.961239</td>\n",
              "      <td>2.237926</td>\n",
              "      <td>2.303601</td>\n",
              "      <td>1.653171</td>\n",
              "      <td>1.430427</td>\n",
              "      <td>3.904848</td>\n",
              "      <td>3.197605</td>\n",
              "      <td>2.289985</td>\n",
              "      <td>1.919083</td>\n",
              "      <td>2.219635</td>\n",
              "    </tr>\n",
              "    <tr>\n",
              "      <th>568</th>\n",
              "      <td>-1.808401</td>\n",
              "      <td>1.221792</td>\n",
              "      <td>-1.814389</td>\n",
              "      <td>-1.347789</td>\n",
              "      <td>-3.112085</td>\n",
              "      <td>-1.150752</td>\n",
              "      <td>-1.114873</td>\n",
              "      <td>-1.261820</td>\n",
              "      <td>-0.820070</td>\n",
              "      <td>-0.561032</td>\n",
              "      <td>-0.070279</td>\n",
              "      <td>0.383092</td>\n",
              "      <td>-0.157449</td>\n",
              "      <td>-0.466152</td>\n",
              "      <td>0.049342</td>\n",
              "      <td>-1.163516</td>\n",
              "      <td>-1.057501</td>\n",
              "      <td>-1.913447</td>\n",
              "      <td>0.752830</td>\n",
              "      <td>-0.382754</td>\n",
              "      <td>-1.410893</td>\n",
              "      <td>0.764190</td>\n",
              "      <td>-1.432735</td>\n",
              "      <td>-1.075813</td>\n",
              "      <td>-1.859019</td>\n",
              "      <td>-1.207552</td>\n",
              "      <td>-1.305831</td>\n",
              "      <td>-1.745063</td>\n",
              "      <td>-0.048138</td>\n",
              "      <td>-0.751207</td>\n",
              "    </tr>\n",
              "  </tbody>\n",
              "</table>\n",
              "<p>569 rows × 30 columns</p>\n",
              "</div>"
            ],
            "text/plain": [
              "     mean radius  mean texture  ...  worst symmetry  worst fractal dimension\n",
              "0       1.097064     -2.073335  ...        2.750622                 1.937015\n",
              "1       1.829821     -0.353632  ...       -0.243890                 0.281190\n",
              "2       1.579888      0.456187  ...        1.152255                 0.201391\n",
              "3      -0.768909      0.253732  ...        6.046041                 4.935010\n",
              "4       1.750297     -1.151816  ...       -0.868353                -0.397100\n",
              "..           ...           ...  ...             ...                      ...\n",
              "564     2.110995      0.721473  ...       -1.360158                -0.709091\n",
              "565     1.704854      2.085134  ...       -0.531855                -0.973978\n",
              "566     0.702284      2.045574  ...       -1.104549                -0.318409\n",
              "567     1.838341      2.336457  ...        1.919083                 2.219635\n",
              "568    -1.808401      1.221792  ...       -0.048138                -0.751207\n",
              "\n",
              "[569 rows x 30 columns]"
            ]
          },
          "metadata": {},
          "execution_count": 24
        }
      ]
    },
    {
      "cell_type": "markdown",
      "metadata": {
        "id": "YGnP-S1RvpZ7"
      },
      "source": [
        "Splitting data into training, validation and testing:\n",
        "1. 500 rows for training\n",
        "2. 35 rows for validation\n",
        "3. 34 rows for testing\n",
        "Total Rows: 569 "
      ]
    },
    {
      "cell_type": "code",
      "metadata": {
        "colab": {
          "base_uri": "https://localhost:8080/"
        },
        "id": "_0p64CmYu_-m",
        "outputId": "8fe2fc4a-41ab-4c87-8947-81c93a855c98"
      },
      "source": [
        "feature.shape"
      ],
      "execution_count": null,
      "outputs": [
        {
          "output_type": "execute_result",
          "data": {
            "text/plain": [
              "(569, 30)"
            ]
          },
          "metadata": {},
          "execution_count": 25
        }
      ]
    },
    {
      "cell_type": "code",
      "metadata": {
        "colab": {
          "base_uri": "https://localhost:8080/"
        },
        "id": "D6uY3ky5wHSh",
        "outputId": "6ea801a5-327b-458b-eff0-a6d439b0a8c4"
      },
      "source": [
        "label.shape"
      ],
      "execution_count": null,
      "outputs": [
        {
          "output_type": "execute_result",
          "data": {
            "text/plain": [
              "(569,)"
            ]
          },
          "metadata": {},
          "execution_count": 26
        }
      ]
    },
    {
      "cell_type": "code",
      "metadata": {
        "id": "OglDhFZfwI4N"
      },
      "source": [
        "#500 Training\n",
        "x_train = feature[:500]\n",
        "y_train = label[:500]\n",
        "\n",
        "#35 Validation\n",
        "x_val = feature[500:535]\n",
        "y_val = label[500:535]\n",
        "\n",
        "#34 Testing\n",
        "x_test = feature[535:]\n",
        "y_test = label[535:]"
      ],
      "execution_count": null,
      "outputs": []
    },
    {
      "cell_type": "code",
      "metadata": {
        "colab": {
          "base_uri": "https://localhost:8080/"
        },
        "id": "ncN_5WV-xDnW",
        "outputId": "fb9de022-35dd-4b82-88f3-5efbbd164bf7"
      },
      "source": [
        "x_train.shape"
      ],
      "execution_count": null,
      "outputs": [
        {
          "output_type": "execute_result",
          "data": {
            "text/plain": [
              "(500, 30)"
            ]
          },
          "metadata": {},
          "execution_count": 28
        }
      ]
    },
    {
      "cell_type": "code",
      "metadata": {
        "colab": {
          "base_uri": "https://localhost:8080/"
        },
        "id": "kf65vvnUxKZ1",
        "outputId": "e08c5f4f-f847-48bc-d7ef-036180ad2e89"
      },
      "source": [
        "y_train.shape"
      ],
      "execution_count": null,
      "outputs": [
        {
          "output_type": "execute_result",
          "data": {
            "text/plain": [
              "(500,)"
            ]
          },
          "metadata": {},
          "execution_count": 29
        }
      ]
    },
    {
      "cell_type": "markdown",
      "metadata": {
        "id": "GS0bigCAjfRR"
      },
      "source": [
        "Creating Neural Network"
      ]
    },
    {
      "cell_type": "markdown",
      "metadata": {
        "id": "873Gs0EVmssy"
      },
      "source": [
        "![download.jpg](data:image/jpeg;base64,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)"
      ]
    },
    {
      "cell_type": "markdown",
      "metadata": {
        "id": "A3qzpipbm0Vu"
      },
      "source": [
        "![download.png](data:image/png;base64,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)\n",
        "\n",
        "For the \"Relu\" Activation Function, if the value is below 0, the parameter is not considered for the further calculation and when the value goes above 0, the parameter is considered for the calculation"
      ]
    },
    {
      "cell_type": "markdown",
      "metadata": {
        "id": "G6qRvVNro6in"
      },
      "source": [
        "![download (1).png](data:image/png;base64,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)"
      ]
    },
    {
      "cell_type": "code",
      "metadata": {
        "id": "6uVxAUfYhAMe"
      },
      "source": [
        "#Sequential will create an empty stack where we can add as many numbers of hidden layers\n",
        "model = Sequential()"
      ],
      "execution_count": null,
      "outputs": []
    },
    {
      "cell_type": "code",
      "metadata": {
        "id": "qixUATmBjv2c"
      },
      "source": [
        "#Adding 1st Layer\n",
        "#For the 1st hidden layer we have 15 Neurons\n",
        "#30 is the number of input features\n",
        "model.add(Dense(15, activation = 'relu', input_dim = 30))"
      ],
      "execution_count": null,
      "outputs": []
    },
    {
      "cell_type": "code",
      "metadata": {
        "id": "WEMhmBHnoTO6"
      },
      "source": [
        "#Adding 2nd Layer\n",
        "#For the 2nd hidden layer we have 8 Neurons\n",
        "\n",
        "model.add(Dense(8, activation = 'relu'))"
      ],
      "execution_count": null,
      "outputs": []
    },
    {
      "cell_type": "code",
      "metadata": {
        "id": "IFXSoCSRpWg9"
      },
      "source": [
        "#Output Layer\n",
        "#Sigmoid Function is used for activation because it gives value between 0 and 1\n",
        "model.add(Dense(1, activation = 'sigmoid'))"
      ],
      "execution_count": null,
      "outputs": []
    },
    {
      "cell_type": "code",
      "metadata": {
        "id": "nXAGUJqqppf-"
      },
      "source": [
        "#Compiling the complete model\n",
        "#Optimizer is used to adjust and re-adjust the weights(hidden layers) when the model gives the prediction wrong.\n",
        "\n",
        "model.compile(loss = 'binary_crossentropy', optimizer = 'adam', metrics = ['accuracy'])"
      ],
      "execution_count": null,
      "outputs": []
    },
    {
      "cell_type": "code",
      "metadata": {
        "colab": {
          "base_uri": "https://localhost:8080/"
        },
        "id": "GGeVp3bhqzRj",
        "outputId": "4ef7fa7e-dca0-4a4b-f5b7-b09298b8707a"
      },
      "source": [
        "#Training the model\n",
        "#Epoch: Number of times the whole dataset has to be passed by the neural network\n",
        "#Batch Size: Number of tumors that are passed through the hidden layers at a time (Default Size: 32)\n",
        "             #Not compulsory to use\n",
        "\n",
        "model.fit(x_train, y_train, batch_size=1, epochs = 10, validation_data = (x_val,y_val))"
      ],
      "execution_count": null,
      "outputs": [
        {
          "output_type": "stream",
          "name": "stdout",
          "text": [
            "Epoch 1/10\n",
            "16/16 [==============================] - 0s 5ms/step - loss: 0.0161 - accuracy: 0.9980 - val_loss: 0.1399 - val_accuracy: 0.9714\n",
            "Epoch 2/10\n",
            "16/16 [==============================] - 0s 7ms/step - loss: 0.0156 - accuracy: 0.9980 - val_loss: 0.1388 - val_accuracy: 0.9714\n",
            "Epoch 3/10\n",
            "16/16 [==============================] - 0s 7ms/step - loss: 0.0152 - accuracy: 0.9980 - val_loss: 0.1374 - val_accuracy: 0.9714\n",
            "Epoch 4/10\n",
            "16/16 [==============================] - 0s 5ms/step - loss: 0.0149 - accuracy: 0.9980 - val_loss: 0.1368 - val_accuracy: 0.9714\n",
            "Epoch 5/10\n",
            "16/16 [==============================] - 0s 6ms/step - loss: 0.0146 - accuracy: 0.9980 - val_loss: 0.1363 - val_accuracy: 0.9714\n",
            "Epoch 6/10\n",
            "16/16 [==============================] - 0s 5ms/step - loss: 0.0145 - accuracy: 0.9980 - val_loss: 0.1365 - val_accuracy: 0.9714\n",
            "Epoch 7/10\n",
            "16/16 [==============================] - 0s 5ms/step - loss: 0.0143 - accuracy: 0.9980 - val_loss: 0.1363 - val_accuracy: 0.9714\n",
            "Epoch 8/10\n",
            "16/16 [==============================] - 0s 5ms/step - loss: 0.0142 - accuracy: 0.9980 - val_loss: 0.1356 - val_accuracy: 0.9714\n",
            "Epoch 9/10\n",
            "16/16 [==============================] - 0s 7ms/step - loss: 0.0141 - accuracy: 0.9980 - val_loss: 0.1361 - val_accuracy: 0.9714\n",
            "Epoch 10/10\n",
            "16/16 [==============================] - 0s 5ms/step - loss: 0.0140 - accuracy: 0.9980 - val_loss: 0.1364 - val_accuracy: 0.9714\n"
          ]
        },
        {
          "output_type": "execute_result",
          "data": {
            "text/plain": [
              "<keras.callbacks.History at 0x7f3409172610>"
            ]
          },
          "metadata": {},
          "execution_count": 42
        }
      ]
    },
    {
      "cell_type": "markdown",
      "metadata": {
        "id": "Hc3ulqOYs2JQ"
      },
      "source": [
        "![download (2).png](data:image/png;base64,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)\n",
        "\n",
        "Loss has to come down and accuracy has to go up"
      ]
    },
    {
      "cell_type": "code",
      "metadata": {
        "colab": {
          "base_uri": "https://localhost:8080/"
        },
        "id": "djLAEneer2TT",
        "outputId": "7e5c5dbe-026a-4d51-976b-551b477d7d6d"
      },
      "source": [
        "#Testing the model\n",
        "model.evaluate(x_test,y_test)"
      ],
      "execution_count": null,
      "outputs": [
        {
          "output_type": "stream",
          "name": "stdout",
          "text": [
            "2/2 [==============================] - 0s 6ms/step - loss: 0.1096 - accuracy: 0.9706\n"
          ]
        },
        {
          "output_type": "execute_result",
          "data": {
            "text/plain": [
              "[0.10959994047880173, 0.970588207244873]"
            ]
          },
          "metadata": {},
          "execution_count": 43
        }
      ]
    },
    {
      "cell_type": "markdown",
      "metadata": {
        "id": "zdym2mGzlL_l"
      },
      "source": [
        "For prediction from the model when we give an input of a patient to the model"
      ]
    },
    {
      "cell_type": "code",
      "metadata": {
        "id": "424EuEsjlIwj"
      },
      "source": [
        "sample = x_test[0]"
      ],
      "execution_count": null,
      "outputs": []
    },
    {
      "cell_type": "code",
      "metadata": {
        "colab": {
          "base_uri": "https://localhost:8080/"
        },
        "id": "XPTFqV4mllft",
        "outputId": "40f7a73c-d471-4f34-ca72-472e6944addf"
      },
      "source": [
        "sample"
      ],
      "execution_count": null,
      "outputs": [
        {
          "output_type": "execute_result",
          "data": {
            "text/plain": [
              "array([ 1.82414032,  0.36543133,  1.88778669,  1.85751441,  0.58638323,\n",
              "        1.31824626,  1.50283863,  2.14814488,  1.15143953, -0.04077169,\n",
              "        1.05904307, -0.4114087 ,  0.910827  ,  1.04382537, -0.82102626,\n",
              "        0.03810891,  0.27043808,  0.3915519 , -0.12862155, -0.41830962,\n",
              "        1.66304049, -0.03211657,  1.57682617,  1.63207582, -0.24410428,\n",
              "        0.37681708,  0.82091153,  1.5256103 ,  0.28512459, -0.45750286])"
            ]
          },
          "metadata": {},
          "execution_count": 49
        }
      ]
    },
    {
      "cell_type": "code",
      "metadata": {
        "colab": {
          "base_uri": "https://localhost:8080/"
        },
        "id": "UlD0aIH3lq4h",
        "outputId": "cf2679ff-dca1-4f17-a9b4-f8fd519a40b9"
      },
      "source": [
        "sample.shape"
      ],
      "execution_count": null,
      "outputs": [
        {
          "output_type": "execute_result",
          "data": {
            "text/plain": [
              "(30,)"
            ]
          },
          "metadata": {},
          "execution_count": 50
        }
      ]
    },
    {
      "cell_type": "code",
      "metadata": {
        "id": "6G2Sz_96mKMu"
      },
      "source": [
        "sample = np.reshape(sample, (1,30))"
      ],
      "execution_count": null,
      "outputs": []
    },
    {
      "cell_type": "code",
      "metadata": {
        "colab": {
          "base_uri": "https://localhost:8080/"
        },
        "id": "8Jj9f9Oqmfim",
        "outputId": "dcb0705a-45b0-4374-c43c-d7ff48da3285"
      },
      "source": [
        "sample.shape"
      ],
      "execution_count": null,
      "outputs": [
        {
          "output_type": "execute_result",
          "data": {
            "text/plain": [
              "(1, 30)"
            ]
          },
          "metadata": {},
          "execution_count": 59
        }
      ]
    },
    {
      "cell_type": "code",
      "metadata": {
        "id": "QOLW8CSFmmYW"
      },
      "source": [
        "result = model.predict(sample)[0][0]"
      ],
      "execution_count": null,
      "outputs": []
    },
    {
      "cell_type": "code",
      "metadata": {
        "colab": {
          "base_uri": "https://localhost:8080/"
        },
        "id": "YDq6PdWZmrl1",
        "outputId": "ed9478b1-8ee8-4fbc-80ef-a186affddedd"
      },
      "source": [
        "if result>0.5:\n",
        "  print(\"Benign\")\n",
        "else:\n",
        "  print(\"Malignant\")"
      ],
      "execution_count": null,
      "outputs": [
        {
          "output_type": "stream",
          "name": "stdout",
          "text": [
            "Malignant\n"
          ]
        }
      ]
    },
    {
      "cell_type": "code",
      "metadata": {
        "colab": {
          "base_uri": "https://localhost:8080/"
        },
        "id": "hQfmqHrVn5xL",
        "outputId": "de7ae86b-85c1-43ed-869c-c1e08c432b8c"
      },
      "source": [
        "#This proves that the result is correct\n",
        "y_test[0]"
      ],
      "execution_count": null,
      "outputs": [
        {
          "output_type": "execute_result",
          "data": {
            "text/plain": [
              "0"
            ]
          },
          "metadata": {},
          "execution_count": 64
        }
      ]
    },
    {
      "cell_type": "markdown",
      "metadata": {
        "id": "fvUcE0Uwp77U"
      },
      "source": [
        "Testing model accuracy for 10 tumors"
      ]
    },
    {
      "cell_type": "code",
      "metadata": {
        "colab": {
          "base_uri": "https://localhost:8080/"
        },
        "id": "Yq2PvCu5n9OT",
        "outputId": "975ee486-c0da-45db-b25c-af43ca0688f1"
      },
      "source": [
        "for i in range(10):\n",
        "  if model.predict(np.reshape(x_test[i], (1,30)))[0][0]>0.5:\n",
        "    print(\"Benign\")\n",
        "  else:\n",
        "    print(\"Malignant\")\n",
        "\n",
        "  if y_test[i] == 1:\n",
        "    print(\"Benign\")\n",
        "  else:\n",
        "    print(\"Malignant\")\n",
        "  print(\"*************\")"
      ],
      "execution_count": null,
      "outputs": [
        {
          "output_type": "stream",
          "name": "stdout",
          "text": [
            "Malignant\n",
            "Malignant\n",
            "*************\n",
            "Malignant\n",
            "Malignant\n",
            "*************\n",
            "Benign\n",
            "Benign\n",
            "*************\n",
            "Benign\n",
            "Benign\n",
            "*************\n",
            "Benign\n",
            "Benign\n",
            "*************\n",
            "Benign\n",
            "Benign\n",
            "*************\n",
            "Malignant\n",
            "Benign\n",
            "*************\n",
            "Benign\n",
            "Benign\n",
            "*************\n",
            "Benign\n",
            "Benign\n",
            "*************\n",
            "Benign\n",
            "Benign\n",
            "*************\n"
          ]
        }
      ]
    }
  ]
}